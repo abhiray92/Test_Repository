{
 "cells": [
  {
   "cell_type": "code",
   "execution_count": 2,
   "metadata": {},
   "outputs": [
    {
     "name": "stdout",
     "output_type": "stream",
     "text": [
      "Collecting package metadata (current_repodata.json): done\n",
      "Solving environment: done\n",
      "\n",
      "## Package Plan ##\n",
      "\n",
      "  environment location: /home/jupyterlab/conda/envs/python\n",
      "\n",
      "  added / updated specs:\n",
      "    - beautifulsoup4\n",
      "\n",
      "\n",
      "The following packages will be downloaded:\n",
      "\n",
      "    package                    |            build\n",
      "    ---------------------------|-----------------\n",
      "    beautifulsoup4-4.9.0       |           py36_0         167 KB\n",
      "    ca-certificates-2020.1.1   |                0         125 KB\n",
      "    certifi-2020.4.5.1         |           py36_0         155 KB\n",
      "    openssl-1.1.1g             |       h7b6447c_0         2.5 MB\n",
      "    soupsieve-2.0              |             py_0          33 KB\n",
      "    ------------------------------------------------------------\n",
      "                                           Total:         3.0 MB\n",
      "\n",
      "The following NEW packages will be INSTALLED:\n",
      "\n",
      "  beautifulsoup4     pkgs/main/linux-64::beautifulsoup4-4.9.0-py36_0\n",
      "  soupsieve          pkgs/main/noarch::soupsieve-2.0-py_0\n",
      "\n",
      "The following packages will be UPDATED:\n",
      "\n",
      "  openssl            conda-forge::openssl-1.1.1f-h516909a_0 --> pkgs/main::openssl-1.1.1g-h7b6447c_0\n",
      "\n",
      "The following packages will be SUPERSEDED by a higher-priority channel:\n",
      "\n",
      "  ca-certificates    conda-forge::ca-certificates-2020.4.5~ --> pkgs/main::ca-certificates-2020.1.1-0\n",
      "  certifi            conda-forge::certifi-2020.4.5.1-py36h~ --> pkgs/main::certifi-2020.4.5.1-py36_0\n",
      "\n",
      "\n",
      "\n",
      "Downloading and Extracting Packages\n",
      "ca-certificates-2020 | 125 KB    | ##################################### | 100% \n",
      "beautifulsoup4-4.9.0 | 167 KB    | ##################################### | 100% \n",
      "openssl-1.1.1g       | 2.5 MB    | ##################################### | 100% \n",
      "soupsieve-2.0        | 33 KB     | ##################################### | 100% \n",
      "certifi-2020.4.5.1   | 155 KB    | ##################################### | 100% \n",
      "Preparing transaction: done\n",
      "Verifying transaction: done\n",
      "Executing transaction: done\n"
     ]
    }
   ],
   "source": [
    "!conda install beautifulsoup4 -y"
   ]
  },
  {
   "cell_type": "markdown",
   "metadata": {},
   "source": [
    "## Importing the necessary libraries"
   ]
  },
  {
   "cell_type": "code",
   "execution_count": 3,
   "metadata": {},
   "outputs": [],
   "source": [
    "from bs4 import BeautifulSoup\n",
    "import pandas as pd\n",
    "import numpy as np"
   ]
  },
  {
   "cell_type": "markdown",
   "metadata": {},
   "source": [
    "### Checking for the filters"
   ]
  },
  {
   "cell_type": "code",
   "execution_count": 4,
   "metadata": {},
   "outputs": [
    {
     "data": {
      "text/plain": [
       "[<th>Postal Code\n",
       " </th>,\n",
       " <th>Borough\n",
       " </th>,\n",
       " <th>Neighborhood\n",
       " </th>]"
      ]
     },
     "execution_count": 4,
     "metadata": {},
     "output_type": "execute_result"
    }
   ],
   "source": [
    "import requests\n",
    "\n",
    "wikipedia_link='https://en.wikipedia.org/wiki/List_of_postal_codes_of_Canada:_M'\n",
    "raw_random_wikipedia_page=requests.get(wikipedia_link)\n",
    "markup=raw_random_wikipedia_page.text\n",
    "soupy = BeautifulSoup(markup, 'html.parser')\n",
    "soup=soupy.find_all('tbody')[0]\n",
    "table=soup.find_all('th')\n",
    "table                      "
   ]
  },
  {
   "cell_type": "markdown",
   "metadata": {},
   "source": [
    "### Creating blank lists and assigning values to them"
   ]
  },
  {
   "cell_type": "code",
   "execution_count": 5,
   "metadata": {},
   "outputs": [],
   "source": [
    "poplu = []\n",
    "bor = []\n",
    "neigh = []\n",
    "\n",
    "for data in soup.find_all('tr')[1:]:\n",
    "    #soup.find_all('td')[0]\n",
    "    poplu.append(data.find_all('td')[0].text)\n",
    "    bor.append(data.find_all('td')[1].text)\n",
    "    neigh.append(data.find_all('td')[2].text)\n",
    "    "
   ]
  },
  {
   "cell_type": "markdown",
   "metadata": {},
   "source": [
    "### Assigning the lists into a dataframe"
   ]
  },
  {
   "cell_type": "code",
   "execution_count": 6,
   "metadata": {},
   "outputs": [
    {
     "data": {
      "text/html": [
       "<div>\n",
       "<style scoped>\n",
       "    .dataframe tbody tr th:only-of-type {\n",
       "        vertical-align: middle;\n",
       "    }\n",
       "\n",
       "    .dataframe tbody tr th {\n",
       "        vertical-align: top;\n",
       "    }\n",
       "\n",
       "    .dataframe thead th {\n",
       "        text-align: right;\n",
       "    }\n",
       "</style>\n",
       "<table border=\"1\" class=\"dataframe\">\n",
       "  <thead>\n",
       "    <tr style=\"text-align: right;\">\n",
       "      <th></th>\n",
       "      <th>PostalCode</th>\n",
       "      <th>Borough</th>\n",
       "      <th>Neighborhood</th>\n",
       "    </tr>\n",
       "  </thead>\n",
       "  <tbody>\n",
       "    <tr>\n",
       "      <th>0</th>\n",
       "      <td>M1A\\n</td>\n",
       "      <td>Not assigned\\n</td>\n",
       "      <td>\\n</td>\n",
       "    </tr>\n",
       "    <tr>\n",
       "      <th>1</th>\n",
       "      <td>M2A\\n</td>\n",
       "      <td>Not assigned\\n</td>\n",
       "      <td>\\n</td>\n",
       "    </tr>\n",
       "    <tr>\n",
       "      <th>2</th>\n",
       "      <td>M3A\\n</td>\n",
       "      <td>North York\\n</td>\n",
       "      <td>Parkwoods\\n</td>\n",
       "    </tr>\n",
       "    <tr>\n",
       "      <th>3</th>\n",
       "      <td>M4A\\n</td>\n",
       "      <td>North York\\n</td>\n",
       "      <td>Victoria Village\\n</td>\n",
       "    </tr>\n",
       "    <tr>\n",
       "      <th>4</th>\n",
       "      <td>M5A\\n</td>\n",
       "      <td>Downtown Toronto\\n</td>\n",
       "      <td>Regent Park, Harbourfront\\n</td>\n",
       "    </tr>\n",
       "  </tbody>\n",
       "</table>\n",
       "</div>"
      ],
      "text/plain": [
       "  PostalCode             Borough                 Neighborhood\n",
       "0      M1A\\n      Not assigned\\n                           \\n\n",
       "1      M2A\\n      Not assigned\\n                           \\n\n",
       "2      M3A\\n        North York\\n                  Parkwoods\\n\n",
       "3      M4A\\n        North York\\n           Victoria Village\\n\n",
       "4      M5A\\n  Downtown Toronto\\n  Regent Park, Harbourfront\\n"
      ]
     },
     "execution_count": 6,
     "metadata": {},
     "output_type": "execute_result"
    }
   ],
   "source": [
    "poplu\n",
    "dfObj = pd.DataFrame({'PostalCode': poplu, 'Borough':bor, 'Neighborhood':neigh})\n",
    "dfObj.head()"
   ]
  },
  {
   "cell_type": "markdown",
   "metadata": {},
   "source": [
    "### Cleaning the '\\n' from the dataframe, assigning np.nan to the Neighborhood column and stripping the columns of whitespaces"
   ]
  },
  {
   "cell_type": "code",
   "execution_count": 7,
   "metadata": {},
   "outputs": [],
   "source": [
    "dfObj = dfObj.replace('\\n',' ', regex=True)\n",
    "dfObj['Neighborhood'] = dfObj['Neighborhood'].replace(' ', np.nan)\n",
    "dfObj[dfObj.columns] = dfObj.apply(lambda x: x.str.strip())"
   ]
  },
  {
   "cell_type": "code",
   "execution_count": 8,
   "metadata": {},
   "outputs": [
    {
     "data": {
      "text/html": [
       "<div>\n",
       "<style scoped>\n",
       "    .dataframe tbody tr th:only-of-type {\n",
       "        vertical-align: middle;\n",
       "    }\n",
       "\n",
       "    .dataframe tbody tr th {\n",
       "        vertical-align: top;\n",
       "    }\n",
       "\n",
       "    .dataframe thead th {\n",
       "        text-align: right;\n",
       "    }\n",
       "</style>\n",
       "<table border=\"1\" class=\"dataframe\">\n",
       "  <thead>\n",
       "    <tr style=\"text-align: right;\">\n",
       "      <th></th>\n",
       "      <th>PostalCode</th>\n",
       "      <th>Borough</th>\n",
       "      <th>Neighborhood</th>\n",
       "    </tr>\n",
       "  </thead>\n",
       "  <tbody>\n",
       "    <tr>\n",
       "      <th>0</th>\n",
       "      <td>M1A</td>\n",
       "      <td>Not assigned</td>\n",
       "      <td>NaN</td>\n",
       "    </tr>\n",
       "    <tr>\n",
       "      <th>1</th>\n",
       "      <td>M2A</td>\n",
       "      <td>Not assigned</td>\n",
       "      <td>NaN</td>\n",
       "    </tr>\n",
       "    <tr>\n",
       "      <th>2</th>\n",
       "      <td>M3A</td>\n",
       "      <td>North York</td>\n",
       "      <td>Parkwoods</td>\n",
       "    </tr>\n",
       "    <tr>\n",
       "      <th>3</th>\n",
       "      <td>M4A</td>\n",
       "      <td>North York</td>\n",
       "      <td>Victoria Village</td>\n",
       "    </tr>\n",
       "    <tr>\n",
       "      <th>4</th>\n",
       "      <td>M5A</td>\n",
       "      <td>Downtown Toronto</td>\n",
       "      <td>Regent Park, Harbourfront</td>\n",
       "    </tr>\n",
       "  </tbody>\n",
       "</table>\n",
       "</div>"
      ],
      "text/plain": [
       "  PostalCode           Borough               Neighborhood\n",
       "0        M1A      Not assigned                        NaN\n",
       "1        M2A      Not assigned                        NaN\n",
       "2        M3A        North York                  Parkwoods\n",
       "3        M4A        North York           Victoria Village\n",
       "4        M5A  Downtown Toronto  Regent Park, Harbourfront"
      ]
     },
     "execution_count": 8,
     "metadata": {},
     "output_type": "execute_result"
    }
   ],
   "source": [
    "dfObj.head()"
   ]
  },
  {
   "cell_type": "markdown",
   "metadata": {},
   "source": [
    "### Removing the 'Not Assigned' Boroughs from the dataframe"
   ]
  },
  {
   "cell_type": "code",
   "execution_count": 9,
   "metadata": {},
   "outputs": [],
   "source": [
    "dfObj = dfObj[dfObj.Borough != 'Not assigned']"
   ]
  },
  {
   "cell_type": "markdown",
   "metadata": {},
   "source": [
    "### Checking for missing values"
   ]
  },
  {
   "cell_type": "code",
   "execution_count": 10,
   "metadata": {},
   "outputs": [
    {
     "data": {
      "text/plain": [
       "<bound method Series.unique of 2      M3A\n",
       "3      M4A\n",
       "4      M5A\n",
       "5      M6A\n",
       "6      M7A\n",
       "      ... \n",
       "160    M8X\n",
       "165    M4Y\n",
       "168    M7Y\n",
       "169    M8Y\n",
       "178    M8Z\n",
       "Name: PostalCode, Length: 103, dtype: object>"
      ]
     },
     "execution_count": 10,
     "metadata": {},
     "output_type": "execute_result"
    }
   ],
   "source": [
    "dfObj['PostalCode'].unique"
   ]
  },
  {
   "cell_type": "code",
   "execution_count": 11,
   "metadata": {},
   "outputs": [
    {
     "name": "stdout",
     "output_type": "stream",
     "text": [
      "(103, 3)\n",
      "  PostalCode           Borough                                 Neighborhood\n",
      "2        M3A        North York                                    Parkwoods\n",
      "3        M4A        North York                             Victoria Village\n",
      "4        M5A  Downtown Toronto                    Regent Park, Harbourfront\n",
      "5        M6A        North York             Lawrence Manor, Lawrence Heights\n",
      "6        M7A  Downtown Toronto  Queen's Park, Ontario Provincial Government\n"
     ]
    }
   ],
   "source": [
    "print(dfObj.shape)\n",
    "print(dfObj.head())"
   ]
  },
  {
   "cell_type": "markdown",
   "metadata": {},
   "source": [
    "## Downloading the Geospatial Data"
   ]
  },
  {
   "cell_type": "code",
   "execution_count": 16,
   "metadata": {},
   "outputs": [],
   "source": [
    "!wget -q -O 'geospatial_data.csv' https://cocl.us/Geospatial_data"
   ]
  },
  {
   "cell_type": "code",
   "execution_count": 17,
   "metadata": {},
   "outputs": [],
   "source": [
    "df_n = pd.read_csv(\"geospatial_data.csv\")"
   ]
  },
  {
   "cell_type": "code",
   "execution_count": 18,
   "metadata": {},
   "outputs": [
    {
     "data": {
      "text/html": [
       "<div>\n",
       "<style scoped>\n",
       "    .dataframe tbody tr th:only-of-type {\n",
       "        vertical-align: middle;\n",
       "    }\n",
       "\n",
       "    .dataframe tbody tr th {\n",
       "        vertical-align: top;\n",
       "    }\n",
       "\n",
       "    .dataframe thead th {\n",
       "        text-align: right;\n",
       "    }\n",
       "</style>\n",
       "<table border=\"1\" class=\"dataframe\">\n",
       "  <thead>\n",
       "    <tr style=\"text-align: right;\">\n",
       "      <th></th>\n",
       "      <th>Postal Code</th>\n",
       "      <th>Latitude</th>\n",
       "      <th>Longitude</th>\n",
       "    </tr>\n",
       "  </thead>\n",
       "  <tbody>\n",
       "    <tr>\n",
       "      <th>0</th>\n",
       "      <td>M1B</td>\n",
       "      <td>43.806686</td>\n",
       "      <td>-79.194353</td>\n",
       "    </tr>\n",
       "    <tr>\n",
       "      <th>1</th>\n",
       "      <td>M1C</td>\n",
       "      <td>43.784535</td>\n",
       "      <td>-79.160497</td>\n",
       "    </tr>\n",
       "    <tr>\n",
       "      <th>2</th>\n",
       "      <td>M1E</td>\n",
       "      <td>43.763573</td>\n",
       "      <td>-79.188711</td>\n",
       "    </tr>\n",
       "    <tr>\n",
       "      <th>3</th>\n",
       "      <td>M1G</td>\n",
       "      <td>43.770992</td>\n",
       "      <td>-79.216917</td>\n",
       "    </tr>\n",
       "    <tr>\n",
       "      <th>4</th>\n",
       "      <td>M1H</td>\n",
       "      <td>43.773136</td>\n",
       "      <td>-79.239476</td>\n",
       "    </tr>\n",
       "  </tbody>\n",
       "</table>\n",
       "</div>"
      ],
      "text/plain": [
       "  Postal Code   Latitude  Longitude\n",
       "0         M1B  43.806686 -79.194353\n",
       "1         M1C  43.784535 -79.160497\n",
       "2         M1E  43.763573 -79.188711\n",
       "3         M1G  43.770992 -79.216917\n",
       "4         M1H  43.773136 -79.239476"
      ]
     },
     "execution_count": 18,
     "metadata": {},
     "output_type": "execute_result"
    }
   ],
   "source": [
    "df_n.head()"
   ]
  },
  {
   "cell_type": "markdown",
   "metadata": {},
   "source": [
    "## Merging both the Dataframes"
   ]
  },
  {
   "cell_type": "code",
   "execution_count": 19,
   "metadata": {},
   "outputs": [],
   "source": [
    "df_mer = pd.merge(dfObj, df_n, how='inner' , left_on='PostalCode', right_on='Postal Code')"
   ]
  },
  {
   "cell_type": "code",
   "execution_count": 20,
   "metadata": {},
   "outputs": [],
   "source": [
    "df_mer.drop('Postal Code', axis =1, inplace=True)"
   ]
  },
  {
   "cell_type": "code",
   "execution_count": 21,
   "metadata": {},
   "outputs": [
    {
     "data": {
      "text/html": [
       "<div>\n",
       "<style scoped>\n",
       "    .dataframe tbody tr th:only-of-type {\n",
       "        vertical-align: middle;\n",
       "    }\n",
       "\n",
       "    .dataframe tbody tr th {\n",
       "        vertical-align: top;\n",
       "    }\n",
       "\n",
       "    .dataframe thead th {\n",
       "        text-align: right;\n",
       "    }\n",
       "</style>\n",
       "<table border=\"1\" class=\"dataframe\">\n",
       "  <thead>\n",
       "    <tr style=\"text-align: right;\">\n",
       "      <th></th>\n",
       "      <th>PostalCode</th>\n",
       "      <th>Borough</th>\n",
       "      <th>Neighborhood</th>\n",
       "      <th>Latitude</th>\n",
       "      <th>Longitude</th>\n",
       "    </tr>\n",
       "  </thead>\n",
       "  <tbody>\n",
       "    <tr>\n",
       "      <th>0</th>\n",
       "      <td>M3A</td>\n",
       "      <td>North York</td>\n",
       "      <td>Parkwoods</td>\n",
       "      <td>43.753259</td>\n",
       "      <td>-79.329656</td>\n",
       "    </tr>\n",
       "    <tr>\n",
       "      <th>1</th>\n",
       "      <td>M4A</td>\n",
       "      <td>North York</td>\n",
       "      <td>Victoria Village</td>\n",
       "      <td>43.725882</td>\n",
       "      <td>-79.315572</td>\n",
       "    </tr>\n",
       "    <tr>\n",
       "      <th>2</th>\n",
       "      <td>M5A</td>\n",
       "      <td>Downtown Toronto</td>\n",
       "      <td>Regent Park, Harbourfront</td>\n",
       "      <td>43.654260</td>\n",
       "      <td>-79.360636</td>\n",
       "    </tr>\n",
       "    <tr>\n",
       "      <th>3</th>\n",
       "      <td>M6A</td>\n",
       "      <td>North York</td>\n",
       "      <td>Lawrence Manor, Lawrence Heights</td>\n",
       "      <td>43.718518</td>\n",
       "      <td>-79.464763</td>\n",
       "    </tr>\n",
       "    <tr>\n",
       "      <th>4</th>\n",
       "      <td>M7A</td>\n",
       "      <td>Downtown Toronto</td>\n",
       "      <td>Queen's Park, Ontario Provincial Government</td>\n",
       "      <td>43.662301</td>\n",
       "      <td>-79.389494</td>\n",
       "    </tr>\n",
       "  </tbody>\n",
       "</table>\n",
       "</div>"
      ],
      "text/plain": [
       "  PostalCode           Borough                                 Neighborhood  \\\n",
       "0        M3A        North York                                    Parkwoods   \n",
       "1        M4A        North York                             Victoria Village   \n",
       "2        M5A  Downtown Toronto                    Regent Park, Harbourfront   \n",
       "3        M6A        North York             Lawrence Manor, Lawrence Heights   \n",
       "4        M7A  Downtown Toronto  Queen's Park, Ontario Provincial Government   \n",
       "\n",
       "    Latitude  Longitude  \n",
       "0  43.753259 -79.329656  \n",
       "1  43.725882 -79.315572  \n",
       "2  43.654260 -79.360636  \n",
       "3  43.718518 -79.464763  \n",
       "4  43.662301 -79.389494  "
      ]
     },
     "execution_count": 21,
     "metadata": {},
     "output_type": "execute_result"
    }
   ],
   "source": [
    "df_mer.head()"
   ]
  },
  {
   "cell_type": "markdown",
   "metadata": {},
   "source": [
    "## Installing and importing Folium"
   ]
  },
  {
   "cell_type": "code",
   "execution_count": 28,
   "metadata": {},
   "outputs": [
    {
     "name": "stdout",
     "output_type": "stream",
     "text": [
      "Collecting package metadata (current_repodata.json): done\n",
      "Solving environment: done\n",
      "\n",
      "# All requested packages already installed.\n",
      "\n",
      "Collecting package metadata (current_repodata.json): done\n",
      "Solving environment: done\n",
      "\n",
      "# All requested packages already installed.\n",
      "\n",
      "Folium installed\n",
      "Libraries imported.\n"
     ]
    }
   ],
   "source": [
    "\n",
    "!conda install -c conda-forge geopy --yes \n",
    "from geopy.geocoders import Nominatim # module to convert an address into latitude and longitude values\n",
    "\n",
    "# libraries for displaying images\n",
    "from IPython.display import Image \n",
    "from IPython.core.display import HTML \n",
    "\n",
    "# tranforming json file into a pandas dataframe library\n",
    "from pandas.io.json import json_normalize\n",
    "\n",
    "!conda install -c conda-forge folium=0.5.0 --yes\n",
    "import folium # plotting library\n",
    "from folium import plugins\n",
    "\n",
    "print('Folium installed')\n",
    "print('Libraries imported.')"
   ]
  },
  {
   "cell_type": "code",
   "execution_count": 25,
   "metadata": {},
   "outputs": [
    {
     "name": "stdout",
     "output_type": "stream",
     "text": [
      "Your credentails:\n",
      "CLIENT_ID: QRMSCY4AGE0FA4NPLVWQXP0SEGSTS4GEKKEBSZKB1DVUHQXC\n",
      "CLIENT_SECRET:2IPN11JJ55OHJVBM0L2ZQDZGKJIJ3GTTLV2FAJRKNZWDKQWZ\n"
     ]
    }
   ],
   "source": [
    "CLIENT_ID = 'QRMSCY4AGE0FA4NPLVWQXP0SEGSTS4GEKKEBSZKB1DVUHQXC' # your Foursquare ID\n",
    "CLIENT_SECRET = '2IPN11JJ55OHJVBM0L2ZQDZGKJIJ3GTTLV2FAJRKNZWDKQWZ' # your Foursquare Secret\n",
    "VERSION = '20180604'\n",
    "LIMIT = 30\n",
    "print('Your credentails:')\n",
    "print('CLIENT_ID: ' + CLIENT_ID)\n",
    "print('CLIENT_SECRET:' + CLIENT_SECRET)"
   ]
  },
  {
   "cell_type": "markdown",
   "metadata": {},
   "source": [
    "## Visualizing the data on Map"
   ]
  },
  {
   "cell_type": "code",
   "execution_count": 29,
   "metadata": {},
   "outputs": [
    {
     "data": {
      "text/html": [
       "<div style=\"width:100%;\"><div style=\"position:relative;width:100%;height:0;padding-bottom:60%;\"><span style=\"color:#565656\">Make this Notebook Trusted to load map: File -> Trust Notebook</span><iframe src=\"about:blank\" style=\"position:absolute;width:100%;height:100%;left:0;top:0;border:none !important;\" data-html=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 onload=\"this.contentDocument.open();this.contentDocument.write(atob(this.getAttribute('data-html')));this.contentDocument.close();\" allowfullscreen webkitallowfullscreen mozallowfullscreen></iframe></div></div>"
      ],
      "text/plain": [
       "<folium.folium.Map at 0x7fb5647ce208>"
      ]
     },
     "execution_count": 29,
     "metadata": {},
     "output_type": "execute_result"
    }
   ],
   "source": [
    "# creating map instance\n",
    "map = folium.Map(location=[37.77, -100.42], zoom_start=4, tiles='Stamen Terrain')\n",
    "\n",
    "# instantiate a mark cluster object for the incidents in the dataframe\n",
    "markers_C = plugins.MarkerCluster().add_to(map)\n",
    "\n",
    "# loop through the dataframe and add each data point to the mark cluster\n",
    "for lat, lng, label in zip(df_mer.Latitude, df_mer.Longitude, df_mer.PostalCode):\n",
    "    folium.Marker(\n",
    "        location=[lat, lng],\n",
    "        icon=None,\n",
    "        popup=folium.Popup(label,max_width=500),\n",
    "    ).add_to(markers_C)\n",
    "\n",
    "# display map\n",
    "map"
   ]
  }
 ],
 "metadata": {
  "kernelspec": {
   "display_name": "Python",
   "language": "python",
   "name": "conda-env-python-py"
  },
  "language_info": {
   "codemirror_mode": {
    "name": "ipython",
    "version": 3
   },
   "file_extension": ".py",
   "mimetype": "text/x-python",
   "name": "python",
   "nbconvert_exporter": "python",
   "pygments_lexer": "ipython3",
   "version": "3.6.10"
  }
 },
 "nbformat": 4,
 "nbformat_minor": 4
}
